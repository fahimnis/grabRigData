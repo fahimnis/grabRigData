{
 "cells": [
  {
   "cell_type": "markdown",
   "metadata": {},
   "source": [
    "This script will connect to the texas rrc server and download all the files onto a local drive."
   ]
  },
  {
   "cell_type": "code",
   "execution_count": 6,
   "metadata": {},
   "outputs": [],
   "source": [
    "import requests\n",
    "from ftplib import FTP\n",
    "from datetime import datetime\n",
    "from datetime import timedelta\n",
    "import zipfile\n",
    "import os"
   ]
  },
  {
   "cell_type": "code",
   "execution_count": 12,
   "metadata": {},
   "outputs": [],
   "source": [
    "#a python class to scape data from the texas rrc file transfer protocol\n",
    "\n",
    "class grabtxrrcdata():\n",
    "    \n",
    "    def __init__(self, localPath = 'C:/Users/Fahim/Desktop/Gibson Reports/AI/Temp'):\n",
    "        \n",
    "        self.url = 'ftpe.rrc.texas.gov'\n",
    "        self.username = 'anonymous'\n",
    "        self.password = 'emailemail.com'\n",
    "        self.date = datetime(2020,8,11)\n",
    "        \n",
    "        self.localPath = localPath\n",
    "        os.chdir(self.localPath)\n",
    "        \n",
    "    def login(self):\n",
    "        global ftp \n",
    "        \n",
    "        ftp = FTP(self.url)\n",
    "        ftp.login(self.username, self.password)\n",
    "        return\n",
    "    \n",
    "    def makeLabel(self):\n",
    "        self.dirName = self.date.strftime('%x').replace('/','-') + '20'\n",
    "        self.fileName = self.dirName + '.zip'\n",
    "        print(self.dirName)\n",
    "        \n",
    "        return\n",
    "    \n",
    "    def changeDate(self):\n",
    "        self.date = self.date  + timedelta(days=1)\n",
    "        return\n",
    "    \n",
    "    def setDir(self):\n",
    "        ftp.cwd(str('/directional_survey/' + self.dirName + '/'))\n",
    "        return\n",
    "    \n",
    "    def grabFile(self):\n",
    "        localFile = open(self.fileName, 'wb')\n",
    "        ftp.retrbinary('RETR ' + self.fileName, localFile.write, 1024)\n",
    "        ftp.quit()\n",
    "        localFile.close()\n",
    "        return\n",
    "    \n",
    "    def unzipFile(self):\n",
    "        zfile = zipfile.ZipFile(self.fileName)\n",
    "        zfile.extractall()\n",
    "        zfile.close()\n",
    "        os.remove(self.fileName)\n",
    "        return\n",
    "    \n",
    "    def main(self,days = 2):\n",
    "        \n",
    "        for day in range(days):\n",
    "            self.login()\n",
    "            self.makeLabel()\n",
    "            self.setDir()\n",
    "            self.grabFile()\n",
    "            self.unzipFile()\n",
    "            self.changeDate()\n",
    "            print(self.dirName + ' done!')\n",
    "            \n",
    "        return\n",
    "    \n",
    "    \n",
    "        \n",
    "        \n",
    "        \n",
    "        \n",
    "        \n",
    "        \n",
    "        \n",
    "        "
   ]
  },
  {
   "cell_type": "code",
   "execution_count": 13,
   "metadata": {},
   "outputs": [],
   "source": [
    "t = grabtxrrcdata()"
   ]
  },
  {
   "cell_type": "code",
   "execution_count": 15,
   "metadata": {},
   "outputs": [],
   "source": [
    "# t.main(42)"
   ]
  },
  {
   "cell_type": "code",
   "execution_count": null,
   "metadata": {},
   "outputs": [],
   "source": []
  }
 ],
 "metadata": {
  "kernelspec": {
   "display_name": "Python 3",
   "language": "python",
   "name": "python3"
  },
  "language_info": {
   "codemirror_mode": {
    "name": "ipython",
    "version": 3
   },
   "file_extension": ".py",
   "mimetype": "text/x-python",
   "name": "python",
   "nbconvert_exporter": "python",
   "pygments_lexer": "ipython3",
   "version": "3.7.3"
  }
 },
 "nbformat": 4,
 "nbformat_minor": 4
}
